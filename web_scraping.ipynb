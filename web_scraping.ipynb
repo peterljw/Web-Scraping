{
 "cells": [
  {
   "cell_type": "markdown",
   "metadata": {},
   "source": [
    "# 1. Using BeautifulSoup"
   ]
  },
  {
   "cell_type": "code",
   "execution_count": null,
   "metadata": {},
   "outputs": [],
   "source": [
    "import bs4\n",
    "from urllib.request import urlopen as uReq\n",
    "from bs4 import BeautifulSoup as soup\n",
    "import pandas as pd"
   ]
  },
  {
   "cell_type": "markdown",
   "metadata": {},
   "source": [
    "## 1.1 Parsing an Article From Kharon\n",
    "\n",
    "Parsing a simple paragraph from \"https://brief.kharon.com/updates/nigerian-men-sanctioned-by-us-for-business-email-compromise-romance-fraud/\"."
   ]
  },
  {
   "cell_type": "code",
   "execution_count": 24,
   "metadata": {},
   "outputs": [],
   "source": [
    "# define destination page\n",
    "url = \"https://brief.kharon.com/updates/nigerian-men-sanctioned-by-us-for-business-email-compromise-romance-fraud/\""
   ]
  },
  {
   "cell_type": "code",
   "execution_count": 38,
   "metadata": {},
   "outputs": [],
   "source": [
    "# read the page\n",
    "def get_soup(url):\n",
    "    uClient = uReq(url)\n",
    "    page_html = uClient.read()\n",
    "    page_soup = soup(page_html, \"html.parser\")\n",
    "    return page_soup\n",
    "\n",
    "# remove control characters from string\n",
    "import unicodedata\n",
    "def remove_control_characters(s):\n",
    "    return \"\".join(ch for ch in s if unicodedata.category(ch)[0]!=\"C\")"
   ]
  },
  {
   "cell_type": "code",
   "execution_count": 39,
   "metadata": {},
   "outputs": [],
   "source": [
    "# locate content by class name\n",
    "page_soup = get_soup(url)\n",
    "content = page_soup.findAll(\"div\", {\"class\":\"copy\"})"
   ]
  },
  {
   "cell_type": "code",
   "execution_count": 40,
   "metadata": {},
   "outputs": [],
   "source": [
    "# concatenate paragraphs into one string\n",
    "text = \"\"\n",
    "for paragraph in content:\n",
    "    text = text + \"\\n\" + paragraph.text"
   ]
  },
  {
   "cell_type": "code",
   "execution_count": 47,
   "metadata": {},
   "outputs": [
    {
     "name": "stdout",
     "output_type": "stream",
     "text": [
      "The U.S. Treasury Department sanctioned six Nigerian men for their roles in cybercriminal schemes to steal more than USD 6 million from businesses and individuals across the U.S.The sanctioned individuals pursued Americans through global threats known as business email compromise (BEC) and romance fraud, according to the Treasury. They manipulated victims to gain access to usernames, passwords and bank accounts to further the schemes, the Treasury said. The romance fraudsters used online tools to engage their targets, the Treasury said. “Cybercriminals prey on vulnerable Americans and small businesses to deceive and defraud them,” said Treasury Secretary Steven T. Mnuchin. “As technological advancement increasingly offers malicious actors tools that can be used for online attacks and schemes, the United States will continue to protect and defend at-risk Americans and businesses.”The six Nigerians were sanctioned under the Treasury’s authority to designate people or companies engaged in\n"
     ]
    }
   ],
   "source": [
    "# text processing\n",
    "text = remove_control_characters(text).replace(\"\\xa0\", \" \")\n",
    "print(text[:1000])"
   ]
  },
  {
   "cell_type": "markdown",
   "metadata": {},
   "source": [
    "## 1.2 Parsing Game Info From Steam to Form a Table\n",
    "\n",
    "Parsing item name, item price, game genres, discount, and os of top sellers on steam.\n",
    "\n",
    "https://store.steampowered.com/search/?filter=topsellers&category1=998,996"
   ]
  },
  {
   "cell_type": "code",
   "execution_count": 185,
   "metadata": {},
   "outputs": [],
   "source": [
    "url = \"https://store.steampowered.com/search/?filter=topsellers&category1=998,996\"\n",
    "name, price, original_price, discount, os = list(), list(), list(), list(), list()"
   ]
  },
  {
   "cell_type": "code",
   "execution_count": 186,
   "metadata": {},
   "outputs": [],
   "source": [
    "page_soup = get_soup(url)\n",
    "item_sections = page_soup.findAll(\"div\", {\"class\":\"responsive_search_name_combined\"})"
   ]
  },
  {
   "cell_type": "code",
   "execution_count": 187,
   "metadata": {},
   "outputs": [],
   "source": [
    "for item in item_sections:\n",
    "    item_name = item.find(\"span\", {\"class\":\"title\"}).text\n",
    "    item_os = \"\"\n",
    "    for span_os in item.find(\"p\").findAll(\"span\"):\n",
    "        try:\n",
    "            item_os += \"/\" + str(span_os).split(\"platform_img\")[1].split(\"\\\"\")[0].strip()\n",
    "        except:\n",
    "            pass\n",
    "    item_os = item_os[1:]\n",
    "    try:\n",
    "        item_price = item.find(\"div\", {\"class\":\"col search_price responsive_secondrow\"}).text.strip()\n",
    "        item_original_price = item_price\n",
    "        item_discount = None\n",
    "    except:\n",
    "        try:\n",
    "            price_section = item.find(\"div\", {\"class\":\"col search_price discounted responsive_secondrow\"})\n",
    "            item_original_price = price_section.find(\"strike\").text\n",
    "            item_price = price_section.text.replace(item_original_price, \"\").strip()\n",
    "            item_discount = item.find(\"div\", {\"class\":\"col search_discount responsive_secondrow\"}).find(\"span\").text \n",
    "        except:\n",
    "            item_original_price, item_price, item_discount =  None, None, None\n",
    "    name += [item_name]\n",
    "    price += [item_price]\n",
    "    original_price += [item_original_price]\n",
    "    discount += [item_discount] \n",
    "    os += [item_os]"
   ]
  },
  {
   "cell_type": "code",
   "execution_count": 190,
   "metadata": {},
   "outputs": [
    {
     "data": {
      "text/html": [
       "<div>\n",
       "<style scoped>\n",
       "    .dataframe tbody tr th:only-of-type {\n",
       "        vertical-align: middle;\n",
       "    }\n",
       "\n",
       "    .dataframe tbody tr th {\n",
       "        vertical-align: top;\n",
       "    }\n",
       "\n",
       "    .dataframe thead th {\n",
       "        text-align: right;\n",
       "    }\n",
       "</style>\n",
       "<table border=\"1\" class=\"dataframe\">\n",
       "  <thead>\n",
       "    <tr style=\"text-align: right;\">\n",
       "      <th></th>\n",
       "      <th>name</th>\n",
       "      <th>price</th>\n",
       "      <th>original_price</th>\n",
       "      <th>discount</th>\n",
       "      <th>os</th>\n",
       "    </tr>\n",
       "  </thead>\n",
       "  <tbody>\n",
       "    <tr>\n",
       "      <th>0</th>\n",
       "      <td>Hardspace: Shipbreaker</td>\n",
       "      <td>$19.99</td>\n",
       "      <td>$24.99</td>\n",
       "      <td>-20%</td>\n",
       "      <td>win</td>\n",
       "    </tr>\n",
       "    <tr>\n",
       "      <th>1</th>\n",
       "      <td>Destiny 2</td>\n",
       "      <td>Free To Play</td>\n",
       "      <td>Free To Play</td>\n",
       "      <td>None</td>\n",
       "      <td>win</td>\n",
       "    </tr>\n",
       "    <tr>\n",
       "      <th>2</th>\n",
       "      <td>Dead by Daylight</td>\n",
       "      <td>$7.99</td>\n",
       "      <td>$19.99</td>\n",
       "      <td>-60%</td>\n",
       "      <td>win</td>\n",
       "    </tr>\n",
       "    <tr>\n",
       "      <th>3</th>\n",
       "      <td>Counter-Strike: Global Offensive</td>\n",
       "      <td>Free to Play</td>\n",
       "      <td>Free to Play</td>\n",
       "      <td>None</td>\n",
       "      <td>win/mac/linux</td>\n",
       "    </tr>\n",
       "    <tr>\n",
       "      <th>4</th>\n",
       "      <td>Sea of Thieves</td>\n",
       "      <td>$39.99</td>\n",
       "      <td>$39.99</td>\n",
       "      <td>None</td>\n",
       "      <td>win</td>\n",
       "    </tr>\n",
       "  </tbody>\n",
       "</table>\n",
       "</div>"
      ],
      "text/plain": [
       "                               name         price original_price discount  \\\n",
       "0            Hardspace: Shipbreaker        $19.99         $24.99     -20%   \n",
       "1                         Destiny 2  Free To Play   Free To Play     None   \n",
       "2                  Dead by Daylight         $7.99         $19.99     -60%   \n",
       "3  Counter-Strike: Global Offensive  Free to Play   Free to Play     None   \n",
       "4                    Sea of Thieves        $39.99         $39.99     None   \n",
       "\n",
       "              os  \n",
       "0            win  \n",
       "1            win  \n",
       "2            win  \n",
       "3  win/mac/linux  \n",
       "4            win  "
      ]
     },
     "execution_count": 190,
     "metadata": {},
     "output_type": "execute_result"
    }
   ],
   "source": [
    "df_topsellers = pd.DataFrame({\"name\":name, \"price\":price, \"original_price\":original_price,\n",
    "                              \"discount\":discount, \"os\":os})\n",
    "df_topsellers.head()"
   ]
  },
  {
   "cell_type": "markdown",
   "metadata": {},
   "source": [
    "# 2. Using Selenium"
   ]
  },
  {
   "cell_type": "markdown",
   "metadata": {},
   "source": [
    "## 2.1 Parsing an Article From Kharon\n",
    "\n",
    "Parsing a simple paragraph from \"https://brief.kharon.com/updates/nigerian-men-sanctioned-by-us-for-business-email-compromise-romance-fraud/\"."
   ]
  },
  {
   "cell_type": "code",
   "execution_count": 200,
   "metadata": {},
   "outputs": [],
   "source": [
    "from selenium import webdriver\n",
    "import pandas as pd\n",
    "import numpy as np"
   ]
  },
  {
   "cell_type": "code",
   "execution_count": 201,
   "metadata": {},
   "outputs": [],
   "source": [
    "# initial Setup\n",
    "browser = webdriver.Chrome()\n",
    "url = \"https://brief.kharon.com/updates/nigerian-men-sanctioned-by-us-for-business-email-compromise-romance-fraud/\""
   ]
  },
  {
   "cell_type": "code",
   "execution_count": 203,
   "metadata": {},
   "outputs": [],
   "source": [
    "browser.get(url)\n",
    "content = browser.find_elements_by_class_name(\"copy\")"
   ]
  },
  {
   "cell_type": "code",
   "execution_count": 210,
   "metadata": {},
   "outputs": [],
   "source": [
    "# concatenate paragraphs into one string\n",
    "text = \"\"\n",
    "for paragraph in content:\n",
    "    text = text + \" \" + paragraph.text"
   ]
  },
  {
   "cell_type": "code",
   "execution_count": 212,
   "metadata": {},
   "outputs": [
    {
     "name": "stdout",
     "output_type": "stream",
     "text": [
      " The U.S. Treasury Department sanctioned six Nigerian men for their roles in cybercriminal schemes to steal more than USD 6 million from businesses and individuals across the U.S.The sanctioned individuals pursued Americans through global threats known as business email compromise (BEC) and romance fraud, according to the Treasury. They manipulated victims to gain access to usernames, passwords and bank accounts to further the schemes, the Treasury said. The romance fraudsters used online tools to engage their targets, the Treasury said. “Cybercriminals prey on vulnerable Americans and small businesses to deceive and defraud them,” said Treasury Secretary Steven T. Mnuchin. “As technological advancement increasingly offers malicious actors tools that can be used for online attacks and schemes, the United States will continue to protect and defend at-risk Americans and businesses.”The six Nigerians were sanctioned under the Treasury’s authority to designate people or companies engaged i\n"
     ]
    }
   ],
   "source": [
    "# text processing\n",
    "text = remove_control_characters(text)\n",
    "print(text[:1000])"
   ]
  },
  {
   "cell_type": "code",
   "execution_count": 213,
   "metadata": {},
   "outputs": [],
   "source": [
    "# close the browser\n",
    "browser.close()"
   ]
  }
 ],
 "metadata": {
  "kernelspec": {
   "display_name": "Python 3",
   "language": "python",
   "name": "python3"
  },
  "language_info": {
   "codemirror_mode": {
    "name": "ipython",
    "version": 3
   },
   "file_extension": ".py",
   "mimetype": "text/x-python",
   "name": "python",
   "nbconvert_exporter": "python",
   "pygments_lexer": "ipython3",
   "version": "3.6.8"
  }
 },
 "nbformat": 4,
 "nbformat_minor": 2
}
